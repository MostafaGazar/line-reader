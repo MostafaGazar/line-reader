{
 "cells": [
  {
   "cell_type": "markdown",
   "metadata": {},
   "source": [
    "Make that we are running the correct version of TensorFlow first"
   ]
  },
  {
   "cell_type": "code",
   "execution_count": 1,
   "metadata": {
    "collapsed": true
   },
   "outputs": [
    {
     "data": {
      "text/plain": [
       "'2.0.0-alpha0'"
      ]
     },
     "execution_count": 1,
     "metadata": {},
     "output_type": "execute_result"
    }
   ],
   "source": [
    "import tensorflow as tf\n",
    "tf.__version__"
   ]
  },
  {
   "cell_type": "code",
   "execution_count": 2,
   "metadata": {},
   "outputs": [],
   "source": [
    "import sys\n",
    "\n",
    "assert sys.version_info >= (3, 6) # Python ≥3.6 required\n",
    "assert tf.__version__ >= \"2.0\"    # TensorFlow ≥2.0 required"
   ]
  },
  {
   "cell_type": "markdown",
   "metadata": {},
   "source": [
    "# Emnist lines dataset generator\n",
    "\n",
    "1. Get sentences from NTLK \n",
    "2. Use these sentences to generate line images of 34 characters max, which mean a single image would be of height 28px and width up to 28x34=952px"
   ]
  },
  {
   "cell_type": "code",
   "execution_count": 47,
   "metadata": {},
   "outputs": [
    {
     "name": "stdout",
     "output_type": "stream",
     "text": [
      "The autoreload extension is already loaded. To reload it, use:\n",
      "  %reload_ext autoreload\n"
     ]
    }
   ],
   "source": [
    "%load_ext autoreload\n",
    "%autoreload 2\n",
    "\n",
    "import numpy as np\n",
    "import matplotlib.pyplot as plt\n",
    "%matplotlib inline\n",
    "\n",
    "import sys\n",
    "# To be able to write code as if this notebook was one level up in files tree structure.\n",
    "sys.path.append('..')\n",
    "\n",
    "from pathlib import Path\n",
    "\n",
    "import tensorflow as tf\n",
    "\n",
    "import nltk\n",
    "\n",
    "import json\n",
    "import itertools\n",
    "import re\n",
    "import string\n",
    "import random\n",
    "\n",
    "import pandas as pd\n",
    "from PIL import Image\n",
    "from tqdm import tqdm"
   ]
  },
  {
   "cell_type": "code",
   "execution_count": 4,
   "metadata": {},
   "outputs": [],
   "source": [
    "from recognizer.datasets import Dataset\n",
    "from recognizer.datasets import EmnistDataset"
   ]
  },
  {
   "cell_type": "code",
   "execution_count": 5,
   "metadata": {},
   "outputs": [
    {
     "data": {
      "text/plain": [
       "PosixPath('/Users/mostafagazar/Work/notebooks/line-reader/data/raw/nltk')"
      ]
     },
     "execution_count": 5,
     "metadata": {},
     "output_type": "execute_result"
    }
   ],
   "source": [
    "NLTK_DATA_DIRNAME = Dataset.raw_data_path() / 'nltk'\n",
    "NLTK_DATA_DIRNAME"
   ]
  },
  {
   "cell_type": "code",
   "execution_count": 6,
   "metadata": {},
   "outputs": [],
   "source": [
    "MAX_LENGTH = 34"
   ]
  },
  {
   "cell_type": "markdown",
   "metadata": {},
   "source": [
    "## Explore ntlk brown corpus"
   ]
  },
  {
   "cell_type": "code",
   "execution_count": 7,
   "metadata": {},
   "outputs": [
    {
     "data": {
      "text/plain": [
       "[['The', 'Fulton', 'County', 'Grand', 'Jury', 'said', 'Friday', 'an', 'investigation', 'of', \"Atlanta's\", 'recent', 'primary', 'election', 'produced', '``', 'no', 'evidence', \"''\", 'that', 'any', 'irregularities', 'took', 'place', '.'], ['The', 'jury', 'further', 'said', 'in', 'term-end', 'presentments', 'that', 'the', 'City', 'Executive', 'Committee', ',', 'which', 'had', 'over-all', 'charge', 'of', 'the', 'election', ',', '``', 'deserves', 'the', 'praise', 'and', 'thanks', 'of', 'the', 'City', 'of', 'Atlanta', \"''\", 'for', 'the', 'manner', 'in', 'which', 'the', 'election', 'was', 'conducted', '.'], ...]"
      ]
     },
     "execution_count": 7,
     "metadata": {},
     "output_type": "execute_result"
    }
   ],
   "source": [
    "nltk.data.path.append(NLTK_DATA_DIRNAME)\n",
    "try:\n",
    "    nltk.corpus.brown.sents()\n",
    "except LookupError:\n",
    "    NLTK_DATA_DIRNAME.mkdir(parents=True, exist_ok=True)\n",
    "    nltk.download('brown', download_dir=NLTK_DATA_DIRNAME)\n",
    "\n",
    "sents = nltk.corpus.brown.sents()\n",
    "sents"
   ]
  },
  {
   "cell_type": "code",
   "execution_count": 8,
   "metadata": {},
   "outputs": [
    {
     "name": "stdout",
     "output_type": "stream",
     "text": [
      "57340 sentences available\n"
     ]
    }
   ],
   "source": [
    "print(f\"{len(sents)} sentences available\")"
   ]
  },
  {
   "cell_type": "code",
   "execution_count": 9,
   "metadata": {},
   "outputs": [
    {
     "name": "stdout",
     "output_type": "stream",
     "text": [
      "Min sentence length is 1\n",
      "Median sentence length is 18.0\n",
      "Mean sentence length is 20.250994070456922\n",
      "Max sentence length is 180\n"
     ]
    }
   ],
   "source": [
    "sentences_length = [len(sentence) for sentence in sents]\n",
    "\n",
    "print(f\"Min sentence length is {min(sentences_length)}\")\n",
    "\n",
    "print(f\"Median sentence length is {np.median(sentences_length)}\")\n",
    "print(f\"Mean sentence length is {np.mean(sentences_length)}\")\n",
    "\n",
    "print(f\"Max sentence length is {max(sentences_length)}\")"
   ]
  },
  {
   "cell_type": "code",
   "execution_count": 10,
   "metadata": {},
   "outputs": [
    {
     "name": "stdout",
     "output_type": "stream",
     "text": [
      "There are 7459 sentences greater than max length\n"
     ]
    }
   ],
   "source": [
    "sentences_greater_than_max_length = sum(length > MAX_LENGTH for length in sentences_length)\n",
    "print(f\"There are {sentences_greater_than_max_length} sentences greater than max length\")"
   ]
  },
  {
   "cell_type": "code",
   "execution_count": 11,
   "metadata": {},
   "outputs": [
    {
     "data": {
      "image/png": "[encoded data removed]",
      "text/plain": [
       "<Figure size 1440x720 with 1 Axes>"
      ]
     },
     "metadata": {
      "needs_background": "light"
     },
     "output_type": "display_data"
    }
   ],
   "source": [
    "fig = plt.figure(figsize=(20, 10))\n",
    "\n",
    "plt.hist(sentences_length, bins=90)\n",
    "fig.tight_layout()"
   ]
  },
  {
   "cell_type": "markdown",
   "metadata": {},
   "source": [
    "## Convert sentence words array to text"
   ]
  },
  {
   "cell_type": "code",
   "execution_count": 12,
   "metadata": {},
   "outputs": [
    {
     "data": {
      "text/plain": [
       "'!\"#$%&\\'()*+,-./:;<=>?@[\\\\]^_`{|}~'"
      ]
     },
     "execution_count": 12,
     "metadata": {},
     "output_type": "execute_result"
    }
   ],
   "source": [
    "string.punctuation"
   ]
  },
  {
   "cell_type": "code",
   "execution_count": 13,
   "metadata": {},
   "outputs": [
    {
     "data": {
      "text/plain": [
       "['The Fulton County Grand Jury said Friday an investigation of Atlantas recent primary election produced no evidence that any irregularities took place ',\n",
       " 'The jury further said in termend presentments that the City Executive Committee which had overall charge of the election deserves the praise and thanks of the City of Atlanta for the manner in which the election was conducted ',\n",
       " 'The SeptemberOctober term jury had been charged by Fulton Superior Court Judge Durwood Pye to investigate reports of possible irregularities in the hardfought primary which was won by Mayornominate Ivan Allen Jr ']"
      ]
     },
     "execution_count": 13,
     "metadata": {},
     "output_type": "execute_result"
    }
   ],
   "source": [
    "corpus = []\n",
    "punctuation_dict = {ord(c): None for c in string.punctuation}\n",
    "\n",
    "for sentence in sents:\n",
    "    # Merge sentence\n",
    "    text = ' '.join(sentence)\n",
    "    # Remove punctuation\n",
    "    text = text.translate(punctuation_dict)\n",
    "    # Replace multiple spaces with one.\n",
    "    text = re.sub('  +', ' ', text)\n",
    "    \n",
    "    corpus.append(text)\n",
    "    \n",
    "corpus[:3]"
   ]
  },
  {
   "cell_type": "markdown",
   "metadata": {},
   "source": [
    "## Generate dataset"
   ]
  },
  {
   "cell_type": "code",
   "execution_count": 14,
   "metadata": {},
   "outputs": [
    {
     "data": {
      "text/plain": [
       "['Whats wrong at state _____________',\n",
       " 'The transducer itself moves the __',\n",
       " 'There is an ancient and venerable ']"
      ]
     },
     "execution_count": 14,
     "metadata": {},
     "output_type": "execute_result"
    }
   ],
   "source": [
    "random.seed(32)\n",
    "\n",
    "dataset_length = 10000\n",
    "random_indices = random.sample(range(0, len(corpus) - 1), dataset_length)\n",
    "\n",
    "y = []\n",
    "for index in random_indices:\n",
    "    sentence = \"\"\n",
    "    for word in corpus[index].split(\" \"):\n",
    "        if len(sentence) + len(word) < MAX_LENGTH:\n",
    "            sentence += word + \" \"\n",
    "        else:\n",
    "            break\n",
    "            \n",
    "    padding = \"_\" * (MAX_LENGTH - len(sentence))\n",
    "    y.append(sentence + padding)\n",
    "    \n",
    "y[:3]"
   ]
  },
  {
   "cell_type": "markdown",
   "metadata": {},
   "source": [
    "### Get random image letter"
   ]
  },
  {
   "cell_type": "code",
   "execution_count": 15,
   "metadata": {},
   "outputs": [
    {
     "name": "stdout",
     "output_type": "stream",
     "text": [
      "Number of classes: 62\n"
     ]
    }
   ],
   "source": [
    "with open(f\"{Dataset.raw_data_path()}/emnist/emnist_essentials.json\") as json_file:  \n",
    "    mapping = json.load(json_file)[\"mapping\"]\n",
    "    mapping = {m[0]: m[1] for m in mapping}\n",
    "    \n",
    "print(f\"Number of classes: {len(mapping)}\")"
   ]
  },
  {
   "cell_type": "code",
   "execution_count": 16,
   "metadata": {},
   "outputs": [
    {
     "name": "stdout",
     "output_type": "stream",
     "text": [
      "Download path: /Users/mostafagazar/Work/notebooks/line-reader/data/cache/datasets/matlab.zip\n",
      "Processing data...\n",
      "Balancing train dataset...\n",
      "Target max number of images per class: 21635892\n",
      "Dataset ready, with 1395864 training entries and 116323 test entries\n",
      "Number of classes: 62\n",
      "mean: 44.2650032043457, std: 84.56700134277344\n"
     ]
    }
   ],
   "source": [
    "emnist_dataset = EmnistDataset()\n",
    "print(f\"Number of classes: {emnist_dataset.number_of_classes}\")\n",
    "print(f\"mean: {emnist_dataset.mean}, std: {emnist_dataset.std}\")"
   ]
  },
  {
   "cell_type": "markdown",
   "metadata": {},
   "source": [
    "#### Train and test dataset shapes"
   ]
  },
  {
   "cell_type": "code",
   "execution_count": 17,
   "metadata": {},
   "outputs": [
    {
     "data": {
      "text/plain": [
       "TensorShape([1395864, 28, 28, 1])"
      ]
     },
     "execution_count": 17,
     "metadata": {},
     "output_type": "execute_result"
    }
   ],
   "source": [
    "emnist_dataset.train_dataset._tensors[0].shape"
   ]
  },
  {
   "cell_type": "code",
   "execution_count": 18,
   "metadata": {},
   "outputs": [
    {
     "data": {
      "text/plain": [
       "TensorShape([116323, 28, 28, 1])"
      ]
     },
     "execution_count": 18,
     "metadata": {},
     "output_type": "execute_result"
    }
   ],
   "source": [
    "emnist_dataset.test_dataset._tensors[0].shape"
   ]
  },
  {
   "cell_type": "markdown",
   "metadata": {},
   "source": [
    "#### Get a random image from emnist dataset"
   ]
  },
  {
   "cell_type": "code",
   "execution_count": 19,
   "metadata": {},
   "outputs": [
    {
     "name": "stdout",
     "output_type": "stream",
     "text": [
      "Image shape: (28, 28, 1), label: [0 0 0 0 0 0 0 0 0 0 0 0 0 0 0 0 0 0 0 0 0 0 0 0 0 0 0 0 0 0 0 0 0 0 0 0 0\n",
      " 0 0 0 0 0 0 0 0 0 0 0 0 0 0 0 0 0 0 1 0 0 0 0 0 0]\n"
     ]
    },
    {
     "data": {
      "text/plain": [
       "Text(0.5, 1.0, 'label: t')"
      ]
     },
     "execution_count": 19,
     "metadata": {},
     "output_type": "execute_result"
    },
    {
     "data": {
      "image/png": "[encoded data removed]",
      "text/plain": [
       "<Figure size 432x288 with 1 Axes>"
      ]
     },
     "metadata": {
      "needs_background": "light"
     },
     "output_type": "display_data"
    }
   ],
   "source": [
    "(image, label), = emnist_dataset.train_dataset.shuffle(1024).take(1)\n",
    "# Convert the label tensor to numpy array and then get its Python scalar value.\n",
    "print(f\"Image shape: {image.shape}, label: {label}\")\n",
    "\n",
    "plt.imshow(image.numpy().reshape(28, 28), cmap='gray')\n",
    "plt.title(f\"label: {mapping[label.numpy().argmax()]}\")"
   ]
  },
  {
   "cell_type": "markdown",
   "metadata": {},
   "source": [
    "#### Create a dictionary to use for serving random images to the line generator"
   ]
  },
  {
   "cell_type": "code",
   "execution_count": 38,
   "metadata": {},
   "outputs": [],
   "source": [
    "sampling_dict = {}\n",
    "for image, label_hot_encoded in emnist_dataset.train_dataset:\n",
    "    label = mapping[label_hot_encoded.numpy().argmax()]\n",
    "    image = image.numpy().reshape(28, 28)\n",
    "    if label in sampling_dict:\n",
    "        sampling_dict[label].append(image)\n",
    "    else:\n",
    "        sampling_dict[label] = [image]"
   ]
  },
  {
   "cell_type": "code",
   "execution_count": 39,
   "metadata": {},
   "outputs": [
    {
     "data": {
      "text/plain": [
       "62"
      ]
     },
     "execution_count": 39,
     "metadata": {},
     "output_type": "execute_result"
    }
   ],
   "source": [
    "len(sampling_dict)"
   ]
  },
  {
   "cell_type": "markdown",
   "metadata": {},
   "source": [
    "Handle padding and space chars"
   ]
  },
  {
   "cell_type": "code",
   "execution_count": 40,
   "metadata": {},
   "outputs": [],
   "source": [
    "zero_image = np.zeros((28, 28), np.uint8)\n",
    "\n",
    "sampling_dict[' '] = [zero_image]\n",
    "sampling_dict['_'] = [zero_image]"
   ]
  },
  {
   "cell_type": "code",
   "execution_count": 41,
   "metadata": {},
   "outputs": [
    {
     "data": {
      "text/plain": [
       "64"
      ]
     },
     "execution_count": 41,
     "metadata": {},
     "output_type": "execute_result"
    }
   ],
   "source": [
    "len(sampling_dict)"
   ]
  },
  {
   "cell_type": "markdown",
   "metadata": {},
   "source": [
    "## Generate images from this corpus"
   ]
  },
  {
   "cell_type": "code",
   "execution_count": 42,
   "metadata": {},
   "outputs": [],
   "source": [
    "emnist_lines_dataset_path = Dataset.processed_data_path()/'emnist_lines'\n",
    "emnist_lines_dataset_path.mkdir(parents=True, exist_ok=True)"
   ]
  },
  {
   "cell_type": "code",
   "execution_count": 51,
   "metadata": {},
   "outputs": [
    {
     "name": "stderr",
     "output_type": "stream",
     "text": [
      "\n",
      "  0%|          | 0/10000 [00:00<?, ?it/s]\u001b[A\n",
      "  0%|          | 16/10000 [00:00<01:06, 149.68it/s]\u001b[A\n",
      "  0%|          | 27/10000 [00:00<01:15, 131.25it/s]\u001b[A\n",
      "  0%|          | 37/10000 [00:00<01:24, 118.40it/s]\u001b[A\n",
      "  1%|          | 52/10000 [00:00<01:18, 126.24it/s]\u001b[A\n",
      "  1%|          | 62/10000 [00:00<01:28, 112.77it/s]\u001b[A\n",
      "  1%|          | 77/10000 [00:00<01:22, 120.50it/s]\u001b[A\n",
      "  1%|          | 93/10000 [00:00<01:16, 128.98it/s]\u001b[A\n",
      "  1%|          | 108/10000 [00:00<01:13, 134.24it/s]\u001b[A\n",
      "  1%|          | 123/10000 [00:00<01:12, 135.40it/s]\u001b[A\n",
      "  1%|▏         | 142/10000 [00:01<01:07, 146.62it/s]\u001b[A\n",
      "  2%|▏         | 159/10000 [00:01<01:05, 150.36it/s]\u001b[A\n",
      "  2%|▏         | 177/10000 [00:01<01:02, 158.15it/s]\u001b[A\n",
      "  2%|▏         | 198/10000 [00:01<00:57, 170.14it/s]\u001b[A\n",
      "  2%|▏         | 216/10000 [00:01<00:58, 166.98it/s]\u001b[A\n",
      "  2%|▏         | 233/10000 [00:01<00:59, 164.77it/s]\u001b[A\n",
      "  2%|▎         | 250/10000 [00:01<01:03, 152.95it/s]\u001b[A\n",
      "  3%|▎         | 266/10000 [00:01<01:03, 153.96it/s]\u001b[A\n",
      "  3%|▎         | 287/10000 [00:01<00:58, 166.56it/s]\u001b[A\n",
      "  3%|▎         | 307/10000 [00:02<00:55, 174.29it/s]\u001b[A\n",
      "  3%|▎         | 326/10000 [00:02<00:54, 177.38it/s]\u001b[A\n",
      "  3%|▎         | 348/10000 [00:02<00:51, 186.59it/s]\u001b[A\n",
      "  4%|▎         | 370/10000 [00:02<00:50, 192.24it/s]\u001b[A\n",
      "  4%|▍         | 394/10000 [00:02<00:47, 202.23it/s]\u001b[A\n",
      "  4%|▍         | 415/10000 [00:02<00:52, 184.03it/s]\u001b[A\n",
      "  4%|▍         | 437/10000 [00:02<00:49, 192.83it/s]\u001b[A\n",
      "  5%|▍         | 462/10000 [00:02<00:46, 205.99it/s]\u001b[A\n",
      "  5%|▍         | 485/10000 [00:02<00:44, 211.67it/s]\u001b[A\n",
      "  5%|▌         | 508/10000 [00:02<00:44, 215.16it/s]\u001b[A\n",
      "  5%|▌         | 531/10000 [00:03<00:43, 219.25it/s]\u001b[A\n",
      "  6%|▌         | 554/10000 [00:03<00:44, 214.68it/s]\u001b[A\n",
      "  6%|▌         | 577/10000 [00:03<00:43, 218.83it/s]\u001b[A\n",
      "  6%|▌         | 602/10000 [00:03<00:41, 227.24it/s]\u001b[A\n",
      "  6%|▋         | 630/10000 [00:03<00:39, 238.89it/s]\u001b[A\n",
      "  7%|▋         | 655/10000 [00:03<00:46, 199.06it/s]\u001b[A\n",
      "  7%|▋         | 677/10000 [00:03<00:45, 202.93it/s]\u001b[A\n",
      "  7%|▋         | 707/10000 [00:03<00:41, 223.02it/s]\u001b[A\n",
      "  7%|▋         | 735/10000 [00:03<00:39, 237.44it/s]\u001b[A\n",
      "  8%|▊         | 765/10000 [00:04<00:36, 252.99it/s]\u001b[A\n",
      "  8%|▊         | 792/10000 [00:04<00:36, 249.83it/s]\u001b[A\n",
      "  8%|▊         | 822/10000 [00:04<00:35, 262.19it/s]\u001b[A\n",
      "  8%|▊         | 849/10000 [00:04<00:34, 262.30it/s]\u001b[A\n",
      "  9%|▉         | 879/10000 [00:04<00:33, 270.24it/s]\u001b[A\n",
      "  9%|▉         | 909/10000 [00:04<00:32, 278.51it/s]\u001b[A\n",
      "  9%|▉         | 938/10000 [00:04<00:32, 279.73it/s]\u001b[A\n",
      " 10%|▉         | 968/10000 [00:04<00:31, 284.65it/s]\u001b[A\n",
      " 10%|▉         | 997/10000 [00:04<00:31, 284.79it/s]\u001b[A\n",
      " 10%|█         | 1026/10000 [00:05<00:32, 277.04it/s]\u001b[A\n",
      " 11%|█         | 1054/10000 [00:05<00:32, 277.85it/s]\u001b[A\n",
      " 11%|█         | 1082/10000 [00:05<00:33, 265.89it/s]\u001b[A\n",
      " 11%|█         | 1111/10000 [00:05<00:32, 271.01it/s]\u001b[A\n",
      " 11%|█▏        | 1144/10000 [00:05<00:30, 286.13it/s]\u001b[A\n",
      " 12%|█▏        | 1177/10000 [00:05<00:29, 296.14it/s]\u001b[A\n",
      " 12%|█▏        | 1207/10000 [00:05<00:31, 282.75it/s]\u001b[A\n",
      " 12%|█▏        | 1236/10000 [00:05<00:32, 269.99it/s]\u001b[A\n",
      " 13%|█▎        | 1264/10000 [00:05<00:32, 270.26it/s]\u001b[A\n",
      " 13%|█▎        | 1297/10000 [00:05<00:30, 283.55it/s]\u001b[A\n",
      " 13%|█▎        | 1326/10000 [00:06<00:30, 281.11it/s]\u001b[A\n",
      " 14%|█▎        | 1360/10000 [00:06<00:29, 295.84it/s]\u001b[A\n",
      " 14%|█▍        | 1396/10000 [00:06<00:27, 312.14it/s]\u001b[A\n",
      " 14%|█▍        | 1428/10000 [00:06<00:27, 311.21it/s]\u001b[A\n",
      " 15%|█▍        | 1460/10000 [00:06<00:28, 304.64it/s]\u001b[A\n",
      " 15%|█▍        | 1491/10000 [00:06<00:28, 301.94it/s]\u001b[A\n",
      " 15%|█▌        | 1522/10000 [00:06<00:29, 290.86it/s]\u001b[A\n",
      " 16%|█▌        | 1554/10000 [00:06<00:28, 294.33it/s]\u001b[A\n",
      " 16%|█▌        | 1584/10000 [00:06<00:28, 291.42it/s]\u001b[A\n",
      " 16%|█▌        | 1617/10000 [00:07<00:27, 300.88it/s]\u001b[A\n",
      " 17%|█▋        | 1652/10000 [00:07<00:26, 313.79it/s]\u001b[A\n",
      " 17%|█▋        | 1684/10000 [00:07<00:27, 305.09it/s]\u001b[A\n",
      " 17%|█▋        | 1715/10000 [00:07<00:27, 304.67it/s]\u001b[A\n",
      " 17%|█▋        | 1746/10000 [00:07<00:27, 305.70it/s]\u001b[A\n",
      " 18%|█▊        | 1777/10000 [00:07<00:27, 301.09it/s]\u001b[A\n",
      " 18%|█▊        | 1808/10000 [00:07<00:27, 301.58it/s]\u001b[A\n",
      " 18%|█▊        | 1843/10000 [00:07<00:26, 313.11it/s]\u001b[A\n",
      " 19%|█▉        | 1875/10000 [00:07<00:26, 310.12it/s]\u001b[A\n",
      " 19%|█▉        | 1907/10000 [00:07<00:26, 310.53it/s]\u001b[A\n",
      " 19%|█▉        | 1940/10000 [00:08<00:25, 315.76it/s]\u001b[A\n",
      " 20%|█▉        | 1977/10000 [00:08<00:24, 328.81it/s]\u001b[A\n",
      " 20%|██        | 2011/10000 [00:08<00:24, 328.24it/s]\u001b[A\n",
      " 20%|██        | 2049/10000 [00:08<00:23, 340.72it/s]\u001b[A\n",
      " 21%|██        | 2085/10000 [00:08<00:22, 344.23it/s]\u001b[A\n",
      " 21%|██        | 2120/10000 [00:08<00:24, 316.95it/s]\u001b[A\n",
      " 22%|██▏       | 2153/10000 [00:08<00:24, 318.31it/s]\u001b[A\n",
      " 22%|██▏       | 2190/10000 [00:08<00:23, 331.53it/s]\u001b[A\n",
      " 22%|██▏       | 2227/10000 [00:08<00:22, 339.84it/s]\u001b[A\n",
      " 23%|██▎       | 2263/10000 [00:09<00:22, 343.68it/s]\u001b[A\n",
      " 23%|██▎       | 2298/10000 [00:09<00:22, 342.48it/s]\u001b[A\n",
      " 23%|██▎       | 2334/10000 [00:09<00:22, 346.73it/s]\u001b[A\n",
      " 24%|██▎       | 2369/10000 [00:09<00:22, 345.16it/s]\u001b[A\n",
      " 24%|██▍       | 2405/10000 [00:09<00:21, 347.55it/s]\u001b[A\n",
      " 24%|██▍       | 2442/10000 [00:09<00:21, 352.04it/s]\u001b[A\n",
      " 25%|██▍       | 2482/10000 [00:09<00:20, 363.30it/s]\u001b[A\n",
      " 25%|██▌       | 2521/10000 [00:09<00:20, 369.22it/s]\u001b[A\n",
      " 26%|██▌       | 2560/10000 [00:09<00:19, 374.52it/s]\u001b[A\n",
      " 26%|██▌       | 2598/10000 [00:09<00:20, 368.50it/s]\u001b[A\n",
      " 26%|██▋       | 2635/10000 [00:10<00:20, 364.93it/s]\u001b[A\n",
      " 27%|██▋       | 2672/10000 [00:10<00:20, 360.15it/s]\u001b[A\n",
      " 27%|██▋       | 2709/10000 [00:10<00:20, 357.18it/s]\u001b[A\n",
      " 27%|██▋       | 2749/10000 [00:10<00:19, 366.98it/s]\u001b[A\n",
      " 28%|██▊       | 2786/10000 [00:10<00:19, 362.73it/s]\u001b[A\n",
      " 28%|██▊       | 2824/10000 [00:10<00:19, 366.23it/s]\u001b[A\n",
      " 29%|██▊       | 2863/10000 [00:10<00:19, 373.02it/s]\u001b[A\n",
      " 29%|██▉       | 2901/10000 [00:10<00:19, 370.66it/s]\u001b[A\n",
      " 29%|██▉       | 2939/10000 [00:10<00:18, 372.92it/s]\u001b[A\n",
      " 30%|██▉       | 2977/10000 [00:10<00:19, 367.62it/s]\u001b[A\n",
      " 30%|███       | 3014/10000 [00:11<00:19, 367.46it/s]\u001b[A\n",
      " 31%|███       | 3052/10000 [00:11<00:18, 367.46it/s]\u001b[A\n",
      " 31%|███       | 3089/10000 [00:11<00:19, 363.01it/s]\u001b[A\n",
      " 31%|███▏      | 3126/10000 [00:11<00:19, 355.25it/s]\u001b[A\n",
      " 32%|███▏      | 3163/10000 [00:11<00:19, 358.81it/s]\u001b[A\n",
      " 32%|███▏      | 3199/10000 [00:11<00:19, 350.55it/s]\u001b[A\n",
      " 32%|███▏      | 3235/10000 [00:11<00:19, 352.32it/s]\u001b[A\n",
      " 33%|███▎      | 3271/10000 [00:11<00:18, 354.40it/s]\u001b[A\n",
      " 33%|███▎      | 3310/10000 [00:11<00:18, 362.90it/s]\u001b[A\n",
      " 33%|███▎      | 3347/10000 [00:11<00:18, 362.55it/s]\u001b[A\n",
      " 34%|███▍      | 3386/10000 [00:12<00:18, 367.12it/s]\u001b[A\n",
      " 34%|███▍      | 3424/10000 [00:12<00:17, 370.61it/s]\u001b[A\n",
      " 35%|███▍      | 3462/10000 [00:12<00:17, 365.54it/s]\u001b[A\n",
      " 35%|███▌      | 3502/10000 [00:12<00:17, 373.29it/s]\u001b[A\n",
      " 35%|███▌      | 3542/10000 [00:12<00:17, 379.79it/s]\u001b[A\n",
      " 36%|███▌      | 3582/10000 [00:12<00:16, 383.26it/s]\u001b[A\n",
      " 36%|███▌      | 3621/10000 [00:12<00:16, 380.30it/s]\u001b[A\n",
      " 37%|███▋      | 3660/10000 [00:12<00:16, 379.40it/s]\u001b[A\n",
      " 37%|███▋      | 3698/10000 [00:12<00:20, 308.45it/s]\u001b[A\n",
      " 37%|███▋      | 3732/10000 [00:13<00:20, 311.21it/s]\u001b[A\n",
      " 38%|███▊      | 3765/10000 [00:13<00:20, 300.56it/s]\u001b[A\n",
      " 38%|███▊      | 3803/10000 [00:13<00:19, 319.64it/s]\u001b[A\n",
      " 38%|███▊      | 3840/10000 [00:13<00:18, 332.52it/s]\u001b[A\n",
      " 39%|███▉      | 3876/10000 [00:13<00:18, 340.19it/s]\u001b[A\n",
      " 39%|███▉      | 3912/10000 [00:13<00:17, 341.85it/s]\u001b[A\n",
      " 40%|███▉      | 3951/10000 [00:13<00:17, 353.36it/s]\u001b[A\n",
      " 40%|███▉      | 3989/10000 [00:13<00:16, 358.10it/s]\u001b[A\n",
      " 40%|████      | 4026/10000 [00:13<00:16, 358.43it/s]\u001b[A\n",
      " 41%|████      | 4065/10000 [00:14<00:16, 366.16it/s]\u001b[A\n",
      " 41%|████      | 4103/10000 [00:14<00:15, 369.47it/s]\u001b[A\n",
      " 41%|████▏     | 4141/10000 [00:14<00:16, 362.06it/s]\u001b[A\n",
      " 42%|████▏     | 4178/10000 [00:14<00:16, 358.29it/s]\u001b[A\n",
      " 42%|████▏     | 4216/10000 [00:14<00:15, 362.54it/s]\u001b[A\n",
      " 43%|████▎     | 4253/10000 [00:14<00:16, 350.70it/s]\u001b[A\n",
      " 43%|████▎     | 4289/10000 [00:14<00:16, 350.18it/s]\u001b[A\n",
      " 43%|████▎     | 4328/10000 [00:14<00:15, 359.53it/s]\u001b[A\n",
      " 44%|████▎     | 4367/10000 [00:14<00:15, 366.64it/s]\u001b[A\n",
      " 44%|████▍     | 4404/10000 [00:15<00:16, 333.27it/s]\u001b[A\n",
      " 44%|████▍     | 4439/10000 [00:15<00:20, 276.67it/s]\u001b[A\n",
      " 45%|████▍     | 4469/10000 [00:15<00:20, 273.74it/s]\u001b[A\n",
      " 45%|████▌     | 4505/10000 [00:15<00:19, 287.78it/s]\u001b[A\n",
      " 45%|████▌     | 4535/10000 [00:15<00:19, 277.35it/s]\u001b[A\n",
      " 46%|████▌     | 4571/10000 [00:15<00:18, 297.08it/s]\u001b[A\n",
      " 46%|████▌     | 4605/10000 [00:15<00:17, 303.45it/s]\u001b[A\n",
      " 46%|████▋     | 4643/10000 [00:15<00:16, 322.34it/s]\u001b[A\n",
      " 47%|████▋     | 4680/10000 [00:15<00:15, 335.25it/s]\u001b[A\n",
      " 47%|████▋     | 4717/10000 [00:16<00:15, 342.39it/s]\u001b[A\n",
      " 48%|████▊     | 4755/10000 [00:16<00:14, 351.70it/s]\u001b[A\n",
      " 48%|████▊     | 4791/10000 [00:16<00:14, 350.49it/s]\u001b[A\n",
      " 48%|████▊     | 4829/10000 [00:16<00:14, 358.37it/s]\u001b[A\n",
      " 49%|████▊     | 4868/10000 [00:16<00:13, 367.20it/s]\u001b[A\n",
      " 49%|████▉     | 4905/10000 [00:16<00:14, 357.18it/s]\u001b[A\n",
      " 49%|████▉     | 4942/10000 [00:16<00:14, 359.94it/s]\u001b[A\n",
      " 50%|████▉     | 4981/10000 [00:16<00:13, 366.11it/s]\u001b[A\n",
      " 50%|█████     | 5018/10000 [00:16<00:13, 364.33it/s]\u001b[A\n",
      " 51%|█████     | 5055/10000 [00:16<00:14, 347.60it/s]\u001b[A\n",
      " 51%|█████     | 5090/10000 [00:17<00:14, 339.28it/s]\u001b[A\n",
      " 51%|█████▏    | 5125/10000 [00:17<00:14, 326.34it/s]\u001b[A\n",
      " 52%|█████▏    | 5158/10000 [00:17<00:14, 327.20it/s]\u001b[A\n",
      " 52%|█████▏    | 5194/10000 [00:17<00:14, 334.43it/s]\u001b[A\n",
      " 52%|█████▏    | 5232/10000 [00:17<00:13, 346.78it/s]\u001b[A\n",
      " 53%|█████▎    | 5267/10000 [00:17<00:14, 328.95it/s]\u001b[A\n",
      " 53%|█████▎    | 5303/10000 [00:17<00:13, 336.22it/s]\u001b[A\n",
      " 53%|█████▎    | 5344/10000 [00:17<00:13, 354.41it/s]\u001b[A\n",
      " 54%|█████▍    | 5382/10000 [00:17<00:12, 361.61it/s]\u001b[A\n",
      " 54%|█████▍    | 5421/10000 [00:18<00:12, 365.41it/s]\u001b[A\n",
      " 55%|█████▍    | 5461/10000 [00:18<00:12, 373.23it/s]\u001b[A\n",
      " 55%|█████▍    | 5499/10000 [00:18<00:12, 372.98it/s]\u001b[A\n",
      " 55%|█████▌    | 5537/10000 [00:18<00:11, 371.93it/s]\u001b[A\n",
      " 56%|█████▌    | 5576/10000 [00:18<00:11, 376.04it/s]\u001b[A\n",
      " 56%|█████▌    | 5614/10000 [00:18<00:11, 373.72it/s]\u001b[A\n",
      " 57%|█████▋    | 5652/10000 [00:18<00:11, 364.40it/s]\u001b[A\n",
      " 57%|█████▋    | 5689/10000 [00:18<00:11, 361.38it/s]\u001b[A\n",
      " 57%|█████▋    | 5728/10000 [00:18<00:11, 368.10it/s]\u001b[A\n",
      " 58%|█████▊    | 5766/10000 [00:18<00:11, 368.85it/s]\u001b[A\n",
      " 58%|█████▊    | 5804/10000 [00:19<00:11, 371.07it/s]\u001b[A\n",
      " 58%|█████▊    | 5844/10000 [00:19<00:10, 379.16it/s]\u001b[A\n",
      " 59%|█████▉    | 5882/10000 [00:19<00:10, 377.34it/s]\u001b[A\n",
      " 59%|█████▉    | 5920/10000 [00:19<00:10, 372.70it/s]\u001b[A\n",
      " 60%|█████▉    | 5958/10000 [00:19<00:11, 364.05it/s]\u001b[A\n",
      " 60%|█████▉    | 5997/10000 [00:19<00:10, 370.25it/s]\u001b[A\n",
      " 60%|██████    | 6035/10000 [00:19<00:10, 372.21it/s]\u001b[A\n",
      " 61%|██████    | 6073/10000 [00:19<00:10, 373.76it/s]\u001b[A\n",
      " 61%|██████    | 6112/10000 [00:19<00:10, 378.28it/s]\u001b[A\n",
      " 62%|██████▏   | 6150/10000 [00:19<00:10, 370.08it/s]\u001b[A\n",
      " 62%|██████▏   | 6189/10000 [00:20<00:10, 375.17it/s]\u001b[A\n",
      " 62%|██████▏   | 6227/10000 [00:20<00:10, 372.91it/s]\u001b[A\n",
      " 63%|██████▎   | 6265/10000 [00:20<00:10, 365.58it/s]\u001b[A\n",
      " 63%|██████▎   | 6302/10000 [00:20<00:10, 360.52it/s]\u001b[A\n",
      " 63%|██████▎   | 6339/10000 [00:20<00:10, 359.97it/s]\u001b[A\n",
      " 64%|██████▍   | 6378/10000 [00:20<00:09, 365.31it/s]\u001b[A\n",
      " 64%|██████▍   | 6415/10000 [00:20<00:09, 364.86it/s]\u001b[A\n",
      " 65%|██████▍   | 6452/10000 [00:20<00:09, 363.03it/s]\u001b[A\n",
      " 65%|██████▍   | 6490/10000 [00:20<00:09, 366.28it/s]\u001b[A\n",
      " 65%|██████▌   | 6527/10000 [00:21<00:09, 363.59it/s]\u001b[A\n",
      " 66%|██████▌   | 6564/10000 [00:21<00:09, 363.88it/s]\u001b[A\n",
      " 66%|██████▌   | 6603/10000 [00:21<00:09, 370.79it/s]\u001b[A\n",
      " 66%|██████▋   | 6641/10000 [00:21<00:08, 373.30it/s]\u001b[A\n",
      " 67%|██████▋   | 6679/10000 [00:21<00:08, 371.45it/s]\u001b[A\n",
      " 67%|██████▋   | 6717/10000 [00:21<00:09, 363.35it/s]\u001b[A\n",
      " 68%|██████▊   | 6755/10000 [00:21<00:08, 367.46it/s]\u001b[A\n",
      " 68%|██████▊   | 6793/10000 [00:21<00:08, 369.94it/s]\u001b[A\n",
      " 68%|██████▊   | 6831/10000 [00:21<00:08, 371.82it/s]\u001b[A\n",
      " 69%|██████▊   | 6870/10000 [00:21<00:08, 376.72it/s]\u001b[A\n",
      " 69%|██████▉   | 6909/10000 [00:22<00:08, 380.35it/s]\u001b[A\n",
      " 69%|██████▉   | 6949/10000 [00:22<00:07, 385.63it/s]\u001b[A\n",
      " 70%|██████▉   | 6988/10000 [00:22<00:07, 379.53it/s]\u001b[A\n",
      " 70%|███████   | 7027/10000 [00:22<00:08, 367.48it/s]\u001b[A\n",
      " 71%|███████   | 7064/10000 [00:22<00:08, 356.30it/s]\u001b[A\n",
      " 71%|███████   | 7100/10000 [00:22<00:08, 348.79it/s]\u001b[A\n",
      " 71%|███████▏  | 7136/10000 [00:22<00:08, 347.86it/s]\u001b[A\n",
      " 72%|███████▏  | 7173/10000 [00:22<00:08, 352.76it/s]\u001b[A\n",
      " 72%|███████▏  | 7209/10000 [00:22<00:07, 351.45it/s]\u001b[A\n",
      " 72%|███████▏  | 7245/10000 [00:22<00:07, 351.41it/s]\u001b[A\n",
      " 73%|███████▎  | 7283/10000 [00:23<00:07, 357.93it/s]\u001b[A\n",
      " 73%|███████▎  | 7320/10000 [00:23<00:07, 359.19it/s]\u001b[A\n",
      " 74%|███████▎  | 7356/10000 [00:24<00:29, 90.82it/s] \u001b[A\n",
      " 74%|███████▍  | 7392/10000 [00:24<00:22, 117.08it/s]\u001b[A\n",
      " 74%|███████▍  | 7427/10000 [00:24<00:17, 145.94it/s]\u001b[A\n",
      " 75%|███████▍  | 7464/10000 [00:24<00:14, 178.26it/s]\u001b[A\n",
      " 75%|███████▌  | 7501/10000 [00:24<00:11, 210.34it/s]\u001b[A\n",
      " 75%|███████▌  | 7539/10000 [00:24<00:10, 241.96it/s]\u001b[A\n",
      " 76%|███████▌  | 7574/10000 [00:24<00:09, 266.49it/s]\u001b[A\n",
      " 76%|███████▌  | 7611/10000 [00:24<00:08, 289.64it/s]\u001b[A\n",
      " 76%|███████▋  | 7648/10000 [00:25<00:07, 309.61it/s]\u001b[A\n",
      " 77%|███████▋  | 7686/10000 [00:25<00:07, 326.59it/s]\u001b[A\n",
      " 77%|███████▋  | 7724/10000 [00:25<00:06, 339.45it/s]\u001b[A\n",
      " 78%|███████▊  | 7761/10000 [00:25<00:06, 342.76it/s]\u001b[A\n",
      " 78%|███████▊  | 7798/10000 [00:25<00:06, 343.68it/s]\u001b[A\n",
      " 78%|███████▊  | 7834/10000 [00:25<00:06, 346.40it/s]\u001b[A\n",
      " 79%|███████▊  | 7870/10000 [00:25<00:06, 340.44it/s]\u001b[A\n",
      " 79%|███████▉  | 7905/10000 [00:25<00:06, 331.52it/s]\u001b[A\n",
      " 79%|███████▉  | 7943/10000 [00:25<00:05, 343.25it/s]\u001b[A\n",
      " 80%|███████▉  | 7978/10000 [00:26<00:05, 344.18it/s]\u001b[A\n",
      " 80%|████████  | 8013/10000 [00:26<00:05, 345.23it/s]\u001b[A\n",
      " 80%|████████  | 8048/10000 [00:26<00:05, 337.53it/s]\u001b[A\n",
      " 81%|████████  | 8082/10000 [00:26<00:05, 337.83it/s]\u001b[A\n",
      " 81%|████████  | 8119/10000 [00:26<00:05, 344.41it/s]\u001b[A\n",
      " 82%|████████▏ | 8155/10000 [00:26<00:05, 346.73it/s]\u001b[A\n",
      " 82%|████████▏ | 8193/10000 [00:26<00:05, 354.29it/s]\u001b[A\n",
      " 82%|████████▏ | 8230/10000 [00:26<00:04, 356.21it/s]\u001b[A\n",
      " 83%|████████▎ | 8270/10000 [00:26<00:04, 366.16it/s]\u001b[A\n",
      " 83%|████████▎ | 8311/10000 [00:26<00:04, 374.42it/s]\u001b[A\n",
      " 83%|████████▎ | 8349/10000 [00:27<00:04, 366.53it/s]\u001b[A\n",
      " 84%|████████▍ | 8389/10000 [00:27<00:04, 374.71it/s]\u001b[A\n",
      " 84%|████████▍ | 8427/10000 [00:27<00:04, 374.60it/s]\u001b[A\n",
      " 85%|████████▍ | 8465/10000 [00:27<00:04, 372.13it/s]\u001b[A\n",
      " 85%|████████▌ | 8503/10000 [00:27<00:04, 368.04it/s]\u001b[A\n",
      " 85%|████████▌ | 8540/10000 [00:27<00:04, 357.47it/s]\u001b[A\n",
      " 86%|████████▌ | 8576/10000 [00:27<00:04, 349.29it/s]\u001b[A\n",
      " 86%|████████▌ | 8613/10000 [00:27<00:03, 354.10it/s]\u001b[A\n",
      " 87%|████████▋ | 8651/10000 [00:27<00:03, 359.24it/s]\u001b[A\n",
      " 87%|████████▋ | 8689/10000 [00:28<00:03, 363.27it/s]\u001b[A\n",
      " 87%|████████▋ | 8729/10000 [00:28<00:03, 372.36it/s]\u001b[A\n",
      " 88%|████████▊ | 8768/10000 [00:28<00:03, 376.15it/s]\u001b[A\n",
      " 88%|████████▊ | 8806/10000 [00:28<00:03, 370.11it/s]\u001b[A\n",
      " 88%|████████▊ | 8844/10000 [00:28<00:03, 359.01it/s]\u001b[A\n",
      " 89%|████████▉ | 8881/10000 [00:28<00:03, 360.94it/s]\u001b[A\n",
      " 89%|████████▉ | 8918/10000 [00:28<00:02, 361.23it/s]\u001b[A\n",
      " 90%|████████▉ | 8955/10000 [00:28<00:02, 363.74it/s]\u001b[A\n",
      " 90%|████████▉ | 8992/10000 [00:28<00:02, 358.61it/s]\u001b[A\n",
      " 90%|█████████ | 9028/10000 [00:28<00:02, 357.94it/s]\u001b[A\n",
      " 91%|█████████ | 9064/10000 [00:29<00:02, 343.90it/s]\u001b[A\n",
      " 91%|█████████ | 9102/10000 [00:29<00:02, 353.40it/s]\u001b[A\n",
      " 91%|█████████▏| 9139/10000 [00:29<00:02, 356.60it/s]\u001b[A\n",
      " 92%|█████████▏| 9175/10000 [00:29<00:02, 355.42it/s]\u001b[A\n",
      " 92%|█████████▏| 9211/10000 [00:29<00:02, 355.98it/s]\u001b[A\n",
      " 92%|█████████▏| 9248/10000 [00:29<00:02, 357.31it/s]\u001b[A\n",
      " 93%|█████████▎| 9287/10000 [00:29<00:01, 365.62it/s]\u001b[A\n",
      " 93%|█████████▎| 9324/10000 [00:29<00:01, 365.99it/s]\u001b[A\n",
      " 94%|█████████▎| 9363/10000 [00:29<00:01, 371.73it/s]\u001b[A\n",
      " 94%|█████████▍| 9402/10000 [00:29<00:01, 374.86it/s]\u001b[A\n",
      " 94%|█████████▍| 9442/10000 [00:30<00:01, 379.47it/s]\u001b[A\n",
      " 95%|█████████▍| 9480/10000 [00:30<00:01, 378.00it/s]\u001b[A\n",
      " 95%|█████████▌| 9519/10000 [00:30<00:01, 379.60it/s]\u001b[A\n",
      " 96%|█████████▌| 9559/10000 [00:30<00:01, 384.95it/s]\u001b[A\n",
      " 96%|█████████▌| 9598/10000 [00:30<00:01, 378.49it/s]\u001b[A\n",
      " 96%|█████████▋| 9637/10000 [00:30<00:00, 380.56it/s]\u001b[A\n",
      " 97%|█████████▋| 9677/10000 [00:30<00:00, 382.97it/s]\u001b[A\n",
      " 97%|█████████▋| 9716/10000 [00:30<00:00, 365.94it/s]\u001b[A\n",
      " 98%|█████████▊| 9758/10000 [00:30<00:00, 378.10it/s]\u001b[A\n",
      " 98%|█████████▊| 9797/10000 [00:31<00:00, 381.03it/s]\u001b[A\n",
      " 98%|█████████▊| 9836/10000 [00:31<00:00, 381.66it/s]\u001b[A\n",
      " 99%|█████████▉| 9875/10000 [00:31<00:00, 379.27it/s]\u001b[A\n",
      " 99%|█████████▉| 9914/10000 [00:31<00:00, 380.10it/s]\u001b[A\n",
      "100%|█████████▉| 9953/10000 [00:31<00:00, 378.13it/s]\u001b[A\n",
      "100%|█████████▉| 9991/10000 [00:31<00:00, 369.30it/s]\u001b[A\n",
      "100%|██████████| 10000/10000 [00:31<00:00, 316.90it/s]\u001b[A"
     ]
    }
   ],
   "source": [
    "lines_images = []\n",
    "lines_sentences = []\n",
    "\n",
    "for i, sentence in enumerate(tqdm(y)):\n",
    "    letter_samples_for_string = []\n",
    "    for char in sentence:\n",
    "        char_index = random.randint(0, len(sampling_dict[char]) - 1)\n",
    "        char_image = sampling_dict[char][char_index]\n",
    "        letter_samples_for_string.append(char_image)\n",
    "    \n",
    "    image_name = f\"{str(i)}.png\"\n",
    "\n",
    "    # Constract line image from sampled characters.\n",
    "    overlap = 0 # Simple no overalps for now.\n",
    "    N = len(letter_samples_for_string)\n",
    "    H, W = letter_samples_for_string[0].shape\n",
    "    next_overlap_width = W - int(overlap * W)\n",
    "    concatenated_image = np.zeros((H, W * N))\n",
    "    x = 0\n",
    "    for image in letter_samples_for_string:\n",
    "        concatenated_image[:, x:(x + W)] += image\n",
    "        x += next_overlap_width\n",
    "    line_image = np.minimum(255, concatenated_image)\n",
    "\n",
    "    # Debug\n",
    "#     plt.imshow(line_image, cmap='gray')\n",
    "    \n",
    "    # Save image with i as id\n",
    "    img = Image.fromarray(line_image.astype(np.uint8), \"L\")\n",
    "    img.save(f\"{emnist_lines_dataset_path/image_name}\")\n",
    "\n",
    "    lines_images.append(image_name)\n",
    "    lines_sentences.append(sentence)"
   ]
  },
  {
   "cell_type": "markdown",
   "metadata": {},
   "source": [
    "#### Load it in a dataframe and save it"
   ]
  },
  {
   "cell_type": "code",
   "execution_count": 52,
   "metadata": {},
   "outputs": [],
   "source": [
    "lines_dataset_dict = {'image': lines_images, 'sentence': lines_sentences}\n",
    "df = pd.DataFrame(data=lines_dataset_dict)"
   ]
  },
  {
   "cell_type": "code",
   "execution_count": 53,
   "metadata": {},
   "outputs": [
    {
     "data": {
      "text/html": [
       "<div>\n",
       "<style scoped>\n",
       "    .dataframe tbody tr th:only-of-type {\n",
       "        vertical-align: middle;\n",
       "    }\n",
       "\n",
       "    .dataframe tbody tr th {\n",
       "        vertical-align: top;\n",
       "    }\n",
       "\n",
       "    .dataframe thead th {\n",
       "        text-align: right;\n",
       "    }\n",
       "</style>\n",
       "<table border=\"1\" class=\"dataframe\">\n",
       "  <thead>\n",
       "    <tr style=\"text-align: right;\">\n",
       "      <th></th>\n",
       "      <th>image</th>\n",
       "      <th>sentence</th>\n",
       "    </tr>\n",
       "  </thead>\n",
       "  <tbody>\n",
       "    <tr>\n",
       "      <th>0</th>\n",
       "      <td>0.png</td>\n",
       "      <td>Whats wrong at state _____________</td>\n",
       "    </tr>\n",
       "    <tr>\n",
       "      <th>1</th>\n",
       "      <td>1.png</td>\n",
       "      <td>The transducer itself moves the __</td>\n",
       "    </tr>\n",
       "    <tr>\n",
       "      <th>2</th>\n",
       "      <td>2.png</td>\n",
       "      <td>There is an ancient and venerable</td>\n",
       "    </tr>\n",
       "    <tr>\n",
       "      <th>3</th>\n",
       "      <td>3.png</td>\n",
       "      <td>They destroyed a trading house ___</td>\n",
       "    </tr>\n",
       "    <tr>\n",
       "      <th>4</th>\n",
       "      <td>4.png</td>\n",
       "      <td>Alec waited a moment on guard  ___</td>\n",
       "    </tr>\n",
       "  </tbody>\n",
       "</table>\n",
       "</div>"
      ],
      "text/plain": [
       "   image                            sentence\n",
       "0  0.png  Whats wrong at state _____________\n",
       "1  1.png  The transducer itself moves the __\n",
       "2  2.png  There is an ancient and venerable \n",
       "3  3.png  They destroyed a trading house ___\n",
       "4  4.png  Alec waited a moment on guard  ___"
      ]
     },
     "execution_count": 53,
     "metadata": {},
     "output_type": "execute_result"
    }
   ],
   "source": [
    "df.head()"
   ]
  },
  {
   "cell_type": "code",
   "execution_count": 62,
   "metadata": {},
   "outputs": [],
   "source": [
    "df.to_csv(Dataset.processed_data_path()/\"emnist_lines\"/\"data.csv\", index=False)"
   ]
  },
  {
   "cell_type": "code",
   "execution_count": null,
   "metadata": {},
   "outputs": [],
   "source": []
  }
 ],
 "metadata": {
  "kernelspec": {
   "display_name": "Python [conda env:line-reader] *",
   "language": "python",
   "name": "conda-env-line-reader-py"
  },
  "language_info": {
   "codemirror_mode": {
    "name": "ipython",
    "version": 3
   },
   "file_extension": ".py",
   "mimetype": "text/x-python",
   "name": "python",
   "nbconvert_exporter": "python",
   "pygments_lexer": "ipython3",
   "version": "3.6.8"
  }
 },
 "nbformat": 4,
 "nbformat_minor": 2
}
