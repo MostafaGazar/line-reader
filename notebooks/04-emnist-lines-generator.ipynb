{
 "cells": [
  {
   "cell_type": "markdown",
   "metadata": {},
   "source": [
    "Make that we are running the correct version of TensorFlow first"
   ]
  },
  {
   "cell_type": "code",
   "execution_count": 1,
   "metadata": {
    "collapsed": true
   },
   "outputs": [
    {
     "data": {
      "text/plain": [
       "'2.0.0-alpha0'"
      ]
     },
     "execution_count": 1,
     "metadata": {},
     "output_type": "execute_result"
    }
   ],
   "source": [
    "import tensorflow as tf\n",
    "tf.__version__"
   ]
  },
  {
   "cell_type": "code",
   "execution_count": 2,
   "metadata": {},
   "outputs": [],
   "source": [
    "import sys\n",
    "\n",
    "assert sys.version_info >= (3, 6) # Python ≥3.6 required\n",
    "assert tf.__version__ >= \"2.0\"    # TensorFlow ≥2.0 required"
   ]
  },
  {
   "cell_type": "markdown",
   "metadata": {},
   "source": [
    "# Emnist lines dataset generator\n",
    "\n",
    "1. Get sentences from NTLK \n",
    "2. Use these sentences to generate line images of 34 characters max, which mean a single image would be of height 28px and width up to 28x34=952px"
   ]
  },
  {
   "cell_type": "code",
   "execution_count": 3,
   "metadata": {},
   "outputs": [],
   "source": [
    "%load_ext autoreload\n",
    "%autoreload 2\n",
    "\n",
    "import numpy as np\n",
    "import matplotlib.pyplot as plt\n",
    "%matplotlib inline\n",
    "\n",
    "import sys\n",
    "# To be able to write code as if this notebook was one level up in files tree structure.\n",
    "sys.path.append('..')\n",
    "\n",
    "from pathlib import Path\n",
    "\n",
    "import tensorflow as tf\n",
    "\n",
    "import nltk\n",
    "\n",
    "import json\n",
    "import itertools\n",
    "import re\n",
    "import string\n",
    "import random\n",
    "\n",
    "import numpy as np\n",
    "from PIL import Image\n",
    "from tqdm import tqdm"
   ]
  },
  {
   "cell_type": "code",
   "execution_count": 4,
   "metadata": {},
   "outputs": [],
   "source": [
    "from recognizer.datasets import Dataset\n",
    "from recognizer.datasets import EmnistDataset"
   ]
  },
  {
   "cell_type": "code",
   "execution_count": 5,
   "metadata": {},
   "outputs": [
    {
     "data": {
      "text/plain": [
       "PosixPath('/Users/mostafagazar/Work/notebooks/line-reader/data/raw/nltk')"
      ]
     },
     "execution_count": 5,
     "metadata": {},
     "output_type": "execute_result"
    }
   ],
   "source": [
    "NLTK_DATA_DIRNAME = Dataset.raw_data_path() / 'nltk'\n",
    "NLTK_DATA_DIRNAME"
   ]
  },
  {
   "cell_type": "code",
   "execution_count": 6,
   "metadata": {},
   "outputs": [],
   "source": [
    "MAX_LENGTH = 34"
   ]
  },
  {
   "cell_type": "markdown",
   "metadata": {},
   "source": [
    "## Explore ntlk brown corpus"
   ]
  },
  {
   "cell_type": "code",
   "execution_count": 7,
   "metadata": {},
   "outputs": [
    {
     "data": {
      "text/plain": [
       "[['The', 'Fulton', 'County', 'Grand', 'Jury', 'said', 'Friday', 'an', 'investigation', 'of', \"Atlanta's\", 'recent', 'primary', 'election', 'produced', '``', 'no', 'evidence', \"''\", 'that', 'any', 'irregularities', 'took', 'place', '.'], ['The', 'jury', 'further', 'said', 'in', 'term-end', 'presentments', 'that', 'the', 'City', 'Executive', 'Committee', ',', 'which', 'had', 'over-all', 'charge', 'of', 'the', 'election', ',', '``', 'deserves', 'the', 'praise', 'and', 'thanks', 'of', 'the', 'City', 'of', 'Atlanta', \"''\", 'for', 'the', 'manner', 'in', 'which', 'the', 'election', 'was', 'conducted', '.'], ...]"
      ]
     },
     "execution_count": 7,
     "metadata": {},
     "output_type": "execute_result"
    }
   ],
   "source": [
    "nltk.data.path.append(NLTK_DATA_DIRNAME)\n",
    "try:\n",
    "    nltk.corpus.brown.sents()\n",
    "except LookupError:\n",
    "    NLTK_DATA_DIRNAME.mkdir(parents=True, exist_ok=True)\n",
    "    nltk.download('brown', download_dir=NLTK_DATA_DIRNAME)\n",
    "\n",
    "sents = nltk.corpus.brown.sents()\n",
    "sents"
   ]
  },
  {
   "cell_type": "code",
   "execution_count": 8,
   "metadata": {},
   "outputs": [
    {
     "name": "stdout",
     "output_type": "stream",
     "text": [
      "57340 sentences available\n"
     ]
    }
   ],
   "source": [
    "print(f\"{len(sents)} sentences available\")"
   ]
  },
  {
   "cell_type": "code",
   "execution_count": 9,
   "metadata": {},
   "outputs": [
    {
     "name": "stdout",
     "output_type": "stream",
     "text": [
      "Min sentence length is 1\n",
      "Median sentence length is 18.0\n",
      "Mean sentence length is 20.250994070456922\n",
      "Max sentence length is 180\n"
     ]
    }
   ],
   "source": [
    "sentences_length = [len(sentence) for sentence in sents]\n",
    "\n",
    "print(f\"Min sentence length is {min(sentences_length)}\")\n",
    "\n",
    "print(f\"Median sentence length is {np.median(sentences_length)}\")\n",
    "print(f\"Mean sentence length is {np.mean(sentences_length)}\")\n",
    "\n",
    "print(f\"Max sentence length is {max(sentences_length)}\")"
   ]
  },
  {
   "cell_type": "code",
   "execution_count": 10,
   "metadata": {},
   "outputs": [
    {
     "name": "stdout",
     "output_type": "stream",
     "text": [
      "There are 7459 sentences greater than max length\n"
     ]
    }
   ],
   "source": [
    "sentences_greater_than_max_length = sum(length > MAX_LENGTH for length in sentences_length)\n",
    "print(f\"There are {sentences_greater_than_max_length} sentences greater than max length\")"
   ]
  },
  {
   "cell_type": "code",
   "execution_count": 11,
   "metadata": {},
   "outputs": [
    {
     "data": {
      "image/png": "[encoded data removed]",
      "text/plain": [
       "<Figure size 1440x720 with 1 Axes>"
      ]
     },
     "metadata": {
      "needs_background": "light"
     },
     "output_type": "display_data"
    }
   ],
   "source": [
    "fig = plt.figure(figsize=(20, 10))\n",
    "\n",
    "plt.hist(sentences_length, bins=90)\n",
    "fig.tight_layout()"
   ]
  },
  {
   "cell_type": "markdown",
   "metadata": {},
   "source": [
    "## Convert sentence words array to text"
   ]
  },
  {
   "cell_type": "code",
   "execution_count": 12,
   "metadata": {},
   "outputs": [
    {
     "data": {
      "text/plain": [
       "'!\"#$%&\\'()*+,-./:;<=>?@[\\\\]^_`{|}~'"
      ]
     },
     "execution_count": 12,
     "metadata": {},
     "output_type": "execute_result"
    }
   ],
   "source": [
    "string.punctuation"
   ]
  },
  {
   "cell_type": "code",
   "execution_count": 13,
   "metadata": {},
   "outputs": [
    {
     "data": {
      "text/plain": [
       "['The Fulton County Grand Jury said Friday an investigation of Atlantas recent primary election produced no evidence that any irregularities took place ',\n",
       " 'The jury further said in termend presentments that the City Executive Committee which had overall charge of the election deserves the praise and thanks of the City of Atlanta for the manner in which the election was conducted ',\n",
       " 'The SeptemberOctober term jury had been charged by Fulton Superior Court Judge Durwood Pye to investigate reports of possible irregularities in the hardfought primary which was won by Mayornominate Ivan Allen Jr ']"
      ]
     },
     "execution_count": 13,
     "metadata": {},
     "output_type": "execute_result"
    }
   ],
   "source": [
    "corpus = []\n",
    "punctuation_dict = {ord(c): None for c in string.punctuation}\n",
    "\n",
    "for sentence in sents:\n",
    "    # Merge sentence\n",
    "    text = ' '.join(sentence)\n",
    "    # Remove punctuation\n",
    "    text = text.translate(punctuation_dict)\n",
    "    # Replace multiple spaces with one.\n",
    "    text = re.sub('  +', ' ', text)\n",
    "    \n",
    "    corpus.append(text)\n",
    "    \n",
    "corpus[:3]"
   ]
  },
  {
   "cell_type": "markdown",
   "metadata": {},
   "source": [
    "## Generate dataset"
   ]
  },
  {
   "cell_type": "code",
   "execution_count": 14,
   "metadata": {},
   "outputs": [
    {
     "data": {
      "text/plain": [
       "['Whats wrong at state _____________',\n",
       " 'The transducer itself moves the __',\n",
       " 'There is an ancient and venerable ']"
      ]
     },
     "execution_count": 14,
     "metadata": {},
     "output_type": "execute_result"
    }
   ],
   "source": [
    "random.seed(32)\n",
    "\n",
    "dataset_length = 10000\n",
    "random_indices = random.sample(range(0, len(corpus) - 1), dataset_length)\n",
    "\n",
    "y = []\n",
    "for index in random_indices:\n",
    "    sentence = \"\"\n",
    "    for word in corpus[index].split(\" \"):\n",
    "        if len(sentence) + len(word) < MAX_LENGTH:\n",
    "            sentence += word + \" \"\n",
    "        else:\n",
    "            break\n",
    "            \n",
    "    padding = \"_\" * (MAX_LENGTH - len(sentence))\n",
    "    y.append(sentence + padding)\n",
    "    \n",
    "y[:3]"
   ]
  },
  {
   "cell_type": "markdown",
   "metadata": {},
   "source": [
    "### Get random image letter"
   ]
  },
  {
   "cell_type": "code",
   "execution_count": 15,
   "metadata": {},
   "outputs": [
    {
     "name": "stdout",
     "output_type": "stream",
     "text": [
      "Number of classes: 62\n"
     ]
    }
   ],
   "source": [
    "with open(f\"{Dataset.raw_data_path()}/emnist/emnist_essentials.json\") as json_file:  \n",
    "    mapping = json.load(json_file)[\"mapping\"]\n",
    "    mapping = {m[0]: m[1] for m in mapping}\n",
    "    \n",
    "print(f\"Number of classes: {len(mapping)}\")"
   ]
  },
  {
   "cell_type": "code",
   "execution_count": 16,
   "metadata": {},
   "outputs": [
    {
     "name": "stdout",
     "output_type": "stream",
     "text": [
      "Download path: /Users/mostafagazar/Work/notebooks/line-reader/data/cache/datasets/matlab.zip\n",
      "Processing data...\n",
      "Balancing train dataset...\n",
      "Target max number of images per class: 21635892\n",
      "Dataset ready, with 1395864 training entries and 116323 test entries\n",
      "Number of classes: 62\n",
      "mean: 44.2650032043457, std: 84.56700134277344\n"
     ]
    }
   ],
   "source": [
    "emnist_dataset = EmnistDataset()\n",
    "print(f\"Number of classes: {emnist_dataset.number_of_classes}\")\n",
    "print(f\"mean: {emnist_dataset.mean}, std: {emnist_dataset.std}\")"
   ]
  },
  {
   "cell_type": "markdown",
   "metadata": {},
   "source": [
    "#### Train and test dataset shapes"
   ]
  },
  {
   "cell_type": "code",
   "execution_count": 17,
   "metadata": {},
   "outputs": [
    {
     "data": {
      "text/plain": [
       "TensorShape([1395864, 28, 28, 1])"
      ]
     },
     "execution_count": 17,
     "metadata": {},
     "output_type": "execute_result"
    }
   ],
   "source": [
    "emnist_dataset.train_dataset._tensors[0].shape"
   ]
  },
  {
   "cell_type": "code",
   "execution_count": 18,
   "metadata": {},
   "outputs": [
    {
     "data": {
      "text/plain": [
       "TensorShape([116323, 28, 28, 1])"
      ]
     },
     "execution_count": 18,
     "metadata": {},
     "output_type": "execute_result"
    }
   ],
   "source": [
    "emnist_dataset.test_dataset._tensors[0].shape"
   ]
  },
  {
   "cell_type": "markdown",
   "metadata": {},
   "source": [
    "#### Get a random image from emnist dataset"
   ]
  },
  {
   "cell_type": "code",
   "execution_count": 19,
   "metadata": {},
   "outputs": [
    {
     "name": "stdout",
     "output_type": "stream",
     "text": [
      "Image shape: (28, 28, 1), label: [0 0 0 0 0 0 0 0 0 0 0 0 0 0 0 0 0 0 0 1 0 0 0 0 0 0 0 0 0 0 0 0 0 0 0 0 0\n",
      " 0 0 0 0 0 0 0 0 0 0 0 0 0 0 0 0 0 0 0 0 0 0 0 0 0]\n"
     ]
    },
    {
     "data": {
      "text/plain": [
       "Text(0.5, 1.0, 'label: J')"
      ]
     },
     "execution_count": 19,
     "metadata": {},
     "output_type": "execute_result"
    },
    {
     "data": {
      "image/png": "[encoded data removed]",
      "text/plain": [
       "<Figure size 432x288 with 1 Axes>"
      ]
     },
     "metadata": {
      "needs_background": "light"
     },
     "output_type": "display_data"
    }
   ],
   "source": [
    "(image, label), = emnist_dataset.train_dataset.shuffle(1024).take(1)\n",
    "# Convert the label tensor to numpy array and then get its Python scalar value.\n",
    "print(f\"Image shape: {image.shape}, label: {label}\")\n",
    "\n",
    "plt.imshow(image.numpy().reshape(28, 28), cmap='gray')\n",
    "plt.title(f\"label: {mapping[label.numpy().argmax()]}\")"
   ]
  },
  {
   "cell_type": "markdown",
   "metadata": {},
   "source": [
    "#### Create a dictionary to use for serving random images to the line generator"
   ]
  },
  {
   "cell_type": "code",
   "execution_count": 20,
   "metadata": {},
   "outputs": [],
   "source": [
    "sampling_dict = {}\n",
    "for image, label_hot_encoded in emnist_dataset.train_dataset:\n",
    "    label = mapping[label_hot_encoded.numpy().argmax()]\n",
    "    if label in sampling_dict:\n",
    "        sampling_dict[label].append(image.numpy().reshape(28, 28))\n",
    "    else:\n",
    "        sampling_dict[label] = [image]"
   ]
  },
  {
   "cell_type": "code",
   "execution_count": 21,
   "metadata": {},
   "outputs": [
    {
     "data": {
      "text/plain": [
       "62"
      ]
     },
     "execution_count": 21,
     "metadata": {},
     "output_type": "execute_result"
    }
   ],
   "source": [
    "len(sampling_dict)"
   ]
  },
  {
   "cell_type": "markdown",
   "metadata": {},
   "source": [
    "Handle padding and space chars"
   ]
  },
  {
   "cell_type": "code",
   "execution_count": 22,
   "metadata": {},
   "outputs": [],
   "source": [
    "zero_image = np.zeros((28, 28), np.uint8)\n",
    "\n",
    "sampling_dict[' '] = [zero_image]\n",
    "sampling_dict['_'] = [zero_image]"
   ]
  },
  {
   "cell_type": "code",
   "execution_count": 23,
   "metadata": {},
   "outputs": [
    {
     "data": {
      "text/plain": [
       "64"
      ]
     },
     "execution_count": 23,
     "metadata": {},
     "output_type": "execute_result"
    }
   ],
   "source": [
    "len(sampling_dict)"
   ]
  },
  {
   "cell_type": "markdown",
   "metadata": {},
   "source": [
    "## Generate images from this corpus"
   ]
  },
  {
   "cell_type": "code",
   "execution_count": 24,
   "metadata": {},
   "outputs": [],
   "source": [
    "emnist_lines_dataset_path = Dataset.processed_data_path()/'emnist_lines'\n",
    "emnist_lines_dataset_path.mkdir(parents=True, exist_ok=True)"
   ]
  },
  {
   "cell_type": "code",
   "execution_count": 25,
   "metadata": {},
   "outputs": [
    {
     "name": "stderr",
     "output_type": "stream",
     "text": [
      "  0%|          | 19/10000 [00:00<00:52, 189.97it/s]\n"
     ]
    },
    {
     "ename": "ValueError",
     "evalue": "could not broadcast input array from shape (28,28,28) into shape (28,28)",
     "output_type": "error",
     "traceback": [
      "\u001b[0;31m---------------------------------------------------------------------------\u001b[0m",
      "\u001b[0;31mValueError\u001b[0m                                Traceback (most recent call last)",
      "\u001b[0;32m<ipython-input-25-005a08eda980>\u001b[0m in \u001b[0;36m<module>\u001b[0;34m\u001b[0m\n\u001b[1;32m     19\u001b[0m     \u001b[0mx\u001b[0m \u001b[0;34m=\u001b[0m \u001b[0;36m0\u001b[0m\u001b[0;34m\u001b[0m\u001b[0;34m\u001b[0m\u001b[0m\n\u001b[1;32m     20\u001b[0m     \u001b[0;32mfor\u001b[0m \u001b[0mimage\u001b[0m \u001b[0;32min\u001b[0m \u001b[0mletter_samples_for_string\u001b[0m\u001b[0;34m:\u001b[0m\u001b[0;34m\u001b[0m\u001b[0;34m\u001b[0m\u001b[0m\n\u001b[0;32m---> 21\u001b[0;31m         \u001b[0mconcatenated_image\u001b[0m\u001b[0;34m[\u001b[0m\u001b[0;34m:\u001b[0m\u001b[0;34m,\u001b[0m \u001b[0mx\u001b[0m\u001b[0;34m:\u001b[0m\u001b[0;34m(\u001b[0m\u001b[0mx\u001b[0m \u001b[0;34m+\u001b[0m \u001b[0mW\u001b[0m\u001b[0;34m)\u001b[0m\u001b[0;34m]\u001b[0m \u001b[0;34m+=\u001b[0m \u001b[0mimage\u001b[0m\u001b[0;34m\u001b[0m\u001b[0;34m\u001b[0m\u001b[0m\n\u001b[0m\u001b[1;32m     22\u001b[0m         \u001b[0mx\u001b[0m \u001b[0;34m+=\u001b[0m \u001b[0mnext_overlap_width\u001b[0m\u001b[0;34m\u001b[0m\u001b[0;34m\u001b[0m\u001b[0m\n\u001b[1;32m     23\u001b[0m     \u001b[0mline_image\u001b[0m \u001b[0;34m=\u001b[0m \u001b[0mnp\u001b[0m\u001b[0;34m.\u001b[0m\u001b[0mminimum\u001b[0m\u001b[0;34m(\u001b[0m\u001b[0;36m255\u001b[0m\u001b[0;34m,\u001b[0m \u001b[0mconcatenated_image\u001b[0m\u001b[0;34m)\u001b[0m\u001b[0;34m\u001b[0m\u001b[0;34m\u001b[0m\u001b[0m\n",
      "\u001b[0;31mValueError\u001b[0m: could not broadcast input array from shape (28,28,28) into shape (28,28)"
     ]
    }
   ],
   "source": [
    "lines_images = []\n",
    "lines_sentences = []\n",
    "\n",
    "for i, sentence in enumerate(tqdm(y)):\n",
    "    letter_samples_for_string = []\n",
    "    for char in sentence:\n",
    "        char_index = random.randint(0, len(sampling_dict[char]) - 1)\n",
    "        char_image = sampling_dict[char][char_index]\n",
    "        letter_samples_for_string.append(char_image)\n",
    "    \n",
    "    image_name = f\"{str(i)}.png\"\n",
    "\n",
    "    # Constract line image from sampled characters.\n",
    "    overlap = 0 # Simple no overalps for now.\n",
    "    N = len(letter_samples_for_string)\n",
    "    H, W = letter_samples_for_string[0].shape\n",
    "    next_overlap_width = W - int(overlap * W)\n",
    "    concatenated_image = np.zeros((H, W * N))\n",
    "    x = 0\n",
    "    for image in letter_samples_for_string:\n",
    "        concatenated_image[:, x:(x + W)] += image\n",
    "        x += next_overlap_width\n",
    "    line_image = np.minimum(255, concatenated_image)\n",
    "\n",
    "    # Debug\n",
    "#     plt.imshow(line_image, cmap='gray')\n",
    "    \n",
    "    # Save image with i as id\n",
    "    img = Image.fromarray(line_image.astype(np.uint8), \"L\")\n",
    "    img.save(f\"{emnist_lines_dataset_path/image_name}\")\n",
    "\n",
    "    lines_images.append(image_name)\n",
    "    lines_sentences.append(y)\n",
    "#     break"
   ]
  },
  {
   "cell_type": "code",
   "execution_count": null,
   "metadata": {},
   "outputs": [],
   "source": []
  },
  {
   "cell_type": "code",
   "execution_count": null,
   "metadata": {},
   "outputs": [],
   "source": []
  },
  {
   "cell_type": "code",
   "execution_count": null,
   "metadata": {},
   "outputs": [],
   "source": []
  },
  {
   "cell_type": "markdown",
   "metadata": {},
   "source": [
    "#### Load it in a dataframe and save it"
   ]
  },
  {
   "cell_type": "code",
   "execution_count": null,
   "metadata": {},
   "outputs": [],
   "source": [
    "lines_dataset_dict = {'image': lines_images, 'sentence': lines_sentences}\n",
    "df = pd.DataFrame(data=lines_dataset_dict)"
   ]
  },
  {
   "cell_type": "code",
   "execution_count": null,
   "metadata": {},
   "outputs": [],
   "source": [
    "df.head()"
   ]
  },
  {
   "cell_type": "code",
   "execution_count": null,
   "metadata": {},
   "outputs": [],
   "source": [
    "df.to_csv(Dataset.data_path/\"processed\"/\"emnist_lines\", index=False)"
   ]
  },
  {
   "cell_type": "code",
   "execution_count": null,
   "metadata": {},
   "outputs": [],
   "source": []
  },
  {
   "cell_type": "code",
   "execution_count": null,
   "metadata": {},
   "outputs": [],
   "source": []
  },
  {
   "cell_type": "code",
   "execution_count": null,
   "metadata": {},
   "outputs": [],
   "source": []
  }
 ],
 "metadata": {
  "kernelspec": {
   "display_name": "Python [conda env:line-reader] *",
   "language": "python",
   "name": "conda-env-line-reader-py"
  },
  "language_info": {
   "codemirror_mode": {
    "name": "ipython",
    "version": 3
   },
   "file_extension": ".py",
   "mimetype": "text/x-python",
   "name": "python",
   "nbconvert_exporter": "python",
   "pygments_lexer": "ipython3",
   "version": "3.6.8"
  }
 },
 "nbformat": 4,
 "nbformat_minor": 2
}
