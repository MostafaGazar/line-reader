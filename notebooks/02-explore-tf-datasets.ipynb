{
 "cells": [
  {
   "cell_type": "markdown",
   "metadata": {},
   "source": [
    "Make that we are running the correct version of TensorFlow first"
   ]
  },
  {
   "cell_type": "code",
   "execution_count": 1,
   "metadata": {},
   "outputs": [
    {
     "data": {
      "text/plain": [
       "'2.0.0-alpha0'"
      ]
     },
     "execution_count": 1,
     "metadata": {},
     "output_type": "execute_result"
    }
   ],
   "source": [
    "import tensorflow as tf\n",
    "tf.__version__"
   ]
  },
  {
   "cell_type": "code",
   "execution_count": 2,
   "metadata": {},
   "outputs": [],
   "source": [
    "import sys\n",
    "\n",
    "assert sys.version_info >= (3, 5) # Python ≥3.5 required\n",
    "assert tf.__version__ >= \"2.0\"    # TensorFlow ≥2.0 required"
   ]
  },
  {
   "cell_type": "markdown",
   "metadata": {},
   "source": [
    "# Create dataset"
   ]
  },
  {
   "cell_type": "code",
   "execution_count": 14,
   "metadata": {},
   "outputs": [
    {
     "name": "stdout",
     "output_type": "stream",
     "text": [
      "The autoreload extension is already loaded. To reload it, use:\n",
      "  %reload_ext autoreload\n"
     ]
    }
   ],
   "source": [
    "%load_ext autoreload\n",
    "%autoreload 2\n",
    "\n",
    "from pathlib import Path\n",
    "\n",
    "import matplotlib.pyplot as plt\n",
    "%matplotlib inline\n",
    "\n",
    "import numpy as np\n",
    "from scipy.io import loadmat\n",
    "\n",
    "import tensorflow_datasets.public_api as tfds\n",
    "import toml\n",
    "import json"
   ]
  },
  {
   "cell_type": "code",
   "execution_count": 4,
   "metadata": {},
   "outputs": [],
   "source": [
    "path = Path(\"../data/raw/emnist\")"
   ]
  },
  {
   "cell_type": "code",
   "execution_count": 5,
   "metadata": {},
   "outputs": [
    {
     "name": "stdout",
     "output_type": "stream",
     "text": [
      "filename = 'matlab.zip'\n",
      "sha256 = 'e1fa805cdeae699a52da0b77c2db17f6feb77eed125f9b45c022e7990444df95'\n",
      "url = 'https://s3-us-west-2.amazonaws.com/fsdl-public-assets/matlab.zip'\n"
     ]
    }
   ],
   "source": [
    "!cat {path/\"metadata.toml\"}"
   ]
  },
  {
   "cell_type": "code",
   "execution_count": 6,
   "metadata": {},
   "outputs": [
    {
     "name": "stdout",
     "output_type": "stream",
     "text": [
      "Number of classes: 62\n"
     ]
    }
   ],
   "source": [
    "with open(\"../src/datasets/emnist_essentials.json\") as json_file:  \n",
    "    mapping = json.load(json_file)[\"mapping\"]\n",
    "    mapping = {m[0]: m[1] for m in mapping}\n",
    "    \n",
    "print(f\"Number of classes: {len(mapping)}\")"
   ]
  },
  {
   "cell_type": "code",
   "execution_count": 7,
   "metadata": {},
   "outputs": [],
   "source": [
    "metadata = toml.load(path/\"metadata.toml\")\n",
    "_URL = metadata[\"url\"]\n",
    "_DESCRIPTION = \"The EMNIST dataset is a set of handwritten character digits derived from the NIST Special Database 19\" \\\n",
    "               \"and converted to a 28x28 pixel image format and dataset structure that directly matches the MNIST dataset.\"\n",
    "_IMAGE_SIZE = 28\n",
    "_IMAGE_SHAPE = (_IMAGE_SIZE, _IMAGE_SIZE, 1)\n",
    "_NUMBER_OF_CLASSES = len(mapping)"
   ]
  },
  {
   "cell_type": "code",
   "execution_count": 8,
   "metadata": {},
   "outputs": [],
   "source": [
    "# TODO :: Write tests for this dataset, check out this example https://www.tensorflow.org/datasets/add_dataset#testing_mydataset\n",
    "class EmnistDataset(tfds.core.GeneratorBasedBuilder):\n",
    "    \"\"\"\n",
    "    \"The EMNIST dataset is a set of handwritten character digits derived from the NIST Special Database 19\n",
    "    and converted to a 28x28 pixel image format and dataset structure that directly matches the MNIST dataset.\"\n",
    "    From https://www.nist.gov/itl/iad/image-group/emnist-dataset\n",
    "\n",
    "    The data split we will use is\n",
    "    EMNIST ByClass: 814,255 characters. 62 unbalanced classes.\n",
    "    \"\"\"\n",
    "\n",
    "    VERSION = tfds.core.Version('1.0.0')\n",
    "\n",
    "    def _info(self):\n",
    "        return tfds.core.DatasetInfo(\n",
    "            builder=self,\n",
    "            description=(_DESCRIPTION),\n",
    "            features=tfds.features.FeaturesDict({\n",
    "                \"image\": tfds.features.Image(shape=_IMAGE_SHAPE),\n",
    "                \"label\": tfds.features.ClassLabel(num_classes=_NUMBER_OF_CLASSES),\n",
    "                \"class_name\": tfds.features.Text(),\n",
    "            }),\n",
    "            # If there's a common (input, target) tuple from the features,\n",
    "            # specify them here. They'll be used if as_supervised=True in\n",
    "            # builder.as_dataset.\n",
    "            supervised_keys=(\"image\", \"label\"),\n",
    "            urls=[\"https://www.nist.gov/itl/iad/image-group/emnist-dataset\"],\n",
    "            citation=\"Cohen, G., Afshar, S., Tapson, J., & van Schaik, A. (2017). EMNIST: an extension of MNIST to handwritten letters. Retrieved from http://arxiv.org/abs/1702.05373\",\n",
    "        )\n",
    "\n",
    "    def _split_generators(self, dl_manager):\n",
    "        extracted_path = dl_manager.download_and_extract(_URL)\n",
    "        data = loadmat(extracted_path/\"emnist-byclass.mat\")\n",
    "            \n",
    "        # Load training dataset\n",
    "        x_train = data[\"dataset\"][0][0][0][0][0][0]\n",
    "        x_train = x_train.astype(np.float32)\n",
    "        y_train = data[\"dataset\"][0][0][0][0][0][1]\n",
    "            \n",
    "        # Load test dataset\n",
    "        x_test = data[\"dataset\"][0][0][1][0][0][0]\n",
    "        x_test = x_test.astype(np.float32)\n",
    "        y_test = data[\"dataset\"][0][0][1][0][0][1]\n",
    "            \n",
    "        # Reshape using matlab order\n",
    "        x_train = x_train.reshape(-1, 28, 28, order=\"A\")\n",
    "        x_test = x_test.reshape(-1, 28, 28, order=\"A\")\n",
    "        \n",
    "        # Balance the data\n",
    "        x_train, y_train = _sample_to_balance(x_train, y_train)\n",
    "        x_test, y_test = _sample_to_balance(x_test, y_test)\n",
    "        \n",
    "        return [\n",
    "            tfds.core.SplitGenerator(\n",
    "                name=tfds.Split.TRAIN,\n",
    "                num_shards=10,\n",
    "                gen_kwargs={\n",
    "                    \"x\": x_train,\n",
    "                    \"y\": y_train,\n",
    "                },\n",
    "            ),\n",
    "            tfds.core.SplitGenerator(\n",
    "                name=tfds.Split.TEST,\n",
    "                num_shards=1,\n",
    "                gen_kwargs={\n",
    "                    \"x\": x_test,\n",
    "                    \"y\": y_test,\n",
    "                },\n",
    "            ),\n",
    "        ]\n",
    "\n",
    "    def _generate_examples(self, x, y):\n",
    "        for xi, yi in zip(x, y):\n",
    "            yield {\n",
    "                \"image\": xi,\n",
    "                \"label\": yi,\n",
    "                \"class_name\": mapping[yi.numpy()],\n",
    "            }\n",
    "            \n",
    "    def _sample_to_balance(self, x, y):\n",
    "        \"\"\"Because the dataset is not balanced, we take at most the mean number of instances per class.\"\"\"\n",
    "        num_to_sample = int(np.bincount(y.flatten()).mean())\n",
    "\n",
    "        all_sampled_inds = []\n",
    "        for label in np.unique(y.flatten()):\n",
    "            inds = np.where(y == label)[0]\n",
    "            sampled_inds = np.unique(np.random.choice(inds, num_to_sample))\n",
    "            all_sampled_inds.append(sampled_inds)\n",
    "\n",
    "        ind = np.concatenate(all_sampled_inds)\n",
    "        x_sampled = x[ind]\n",
    "        y_sampled = y[ind]\n",
    "\n",
    "        return x_sampled, y_sampled"
   ]
  },
  {
   "cell_type": "markdown",
   "metadata": {},
   "source": [
    "# Try dataset"
   ]
  },
  {
   "cell_type": "code",
   "execution_count": 96,
   "metadata": {},
   "outputs": [],
   "source": [
    "train_ds, train_info = tfds.load(name=\"emnist\", split=tfds.Split.TRAIN, with_info=True)"
   ]
  },
  {
   "cell_type": "code",
   "execution_count": 97,
   "metadata": {},
   "outputs": [
    {
     "name": "stdout",
     "output_type": "stream",
     "text": [
      "tfds.core.DatasetInfo(\n",
      "    name='emnist',\n",
      "    version=1.0.1,\n",
      "    description='The EMNIST dataset is a set of handwritten character digitsderived from the NIST Special Database 19 and converted toa 28x28 pixel image format and dataset structure that directlymatches the MNIST dataset.',\n",
      "    urls=['https://www.itl.nist.gov/iaui/vip/cs_links/EMNIST/gzip.zip'],\n",
      "    features=FeaturesDict({\n",
      "        'image': Image(shape=(28, 28, 1), dtype=tf.uint8),\n",
      "        'label': ClassLabel(shape=(), dtype=tf.int64, num_classes=62)\n",
      "    },\n",
      "    total_num_examples=814255,\n",
      "    splits={\n",
      "        'test': <tfds.core.SplitInfo num_examples=116323>,\n",
      "        'train': <tfds.core.SplitInfo num_examples=697932>\n",
      "    },\n",
      "    supervised_keys=('image', 'label'),\n",
      "    citation='\"\"\"\n",
      "        @article{cohen_afshar_tapson_schaik_2017, \n",
      "            title={EMNIST: Extending MNIST to handwritten letters}, \n",
      "            DOI={10.1109/ijcnn.2017.7966217}, \n",
      "            journal={2017 International Joint Conference on Neural Networks (IJCNN)}, \n",
      "            author={Cohen, Gregory and Afshar, Saeed and Tapson, Jonathan and Schaik, Andre Van}, \n",
      "            year={2017}\n",
      "        }\n",
      "        \n",
      "    \"\"\"',\n",
      "    redistribution_info=,\n",
      ")\n",
      "\n"
     ]
    }
   ],
   "source": [
    "print(train_info)"
   ]
  },
  {
   "cell_type": "code",
   "execution_count": 98,
   "metadata": {},
   "outputs": [
    {
     "name": "stdout",
     "output_type": "stream",
     "text": [
      "features: FeaturesDict({'image': Image(shape=(28, 28, 1), dtype=tf.uint8), 'label': ClassLabel(shape=(), dtype=tf.int64, num_classes=62)})\n",
      "num_classes: 62\n",
      "names: ['0', '1', '2', '3', '4', '5', '6', '7', '8', '9', '10', '11', '12', '13', '14', '15', '16', '17', '18', '19', '20', '21', '22', '23', '24', '25', '26', '27', '28', '29', '30', '31', '32', '33', '34', '35', '36', '37', '38', '39', '40', '41', '42', '43', '44', '45', '46', '47', '48', '49', '50', '51', '52', '53', '54', '55', '56', '57', '58', '59', '60', '61']\n"
     ]
    }
   ],
   "source": [
    "print(f\"features: {train_info.features}\")\n",
    "print(f\"num_classes: {train_info.features['label'].num_classes}\")\n",
    "print(f\"names: {train_info.features['label'].names}\")\n",
    "# print(f\"class_name: {train_info.features['class_name']}\")"
   ]
  },
  {
   "cell_type": "markdown",
   "metadata": {},
   "source": [
    "# Check one image to make sure it looks fine"
   ]
  },
  {
   "cell_type": "code",
   "execution_count": 99,
   "metadata": {},
   "outputs": [
    {
     "data": {
      "text/plain": [
       "Text(0.5, 1.0, 'label: Y')"
      ]
     },
     "execution_count": 99,
     "metadata": {},
     "output_type": "execute_result"
    },
    {
     "data": {
      "image/png": "[encoded data removed]",
      "text/plain": [
       "<Figure size 432x288 with 1 Axes>"
      ]
     },
     "metadata": {
      "needs_background": "light"
     },
     "output_type": "display_data"
    }
   ],
   "source": [
    "emnist_example, = train_ds.take(1)\n",
    "image, label = emnist_example[\"image\"], emnist_example[\"label\"]\n",
    "\n",
    "plt.imshow(image.numpy().reshape(28, 28), cmap='gray')\n",
    "plt.title(f\"label: {mapping[emnist_example['label'].numpy()]}\")"
   ]
  },
  {
   "cell_type": "markdown",
   "metadata": {},
   "source": [
    "# Shuffle and batch the data"
   ]
  },
  {
   "cell_type": "code",
   "execution_count": 100,
   "metadata": {},
   "outputs": [],
   "source": [
    "train_ds = train_ds.shuffle(1024).batch(32)"
   ]
  },
  {
   "cell_type": "markdown",
   "metadata": {},
   "source": [
    "# Check the images again"
   ]
  },
  {
   "cell_type": "code",
   "execution_count": 105,
   "metadata": {},
   "outputs": [
    {
     "data": {
      "image/png": "[encoded data removed]",
      "text/plain": [
       "<Figure size 432x288 with 9 Axes>"
      ]
     },
     "metadata": {
      "needs_background": "light"
     },
     "output_type": "display_data"
    }
   ],
   "source": [
    "first_batch, = train_ds.take(1)\n",
    "\n",
    "for i in range(9):\n",
    "    image, label = first_batch[\"image\"][i], first_batch[\"label\"][i]\n",
    "\n",
    "    plt.subplot(3, 3, i + 1)\n",
    "    plt.imshow(image.numpy().reshape(28, 28), cmap='gray')\n",
    "    plt.title(f\"label: {mapping[label.numpy()]}\")\n",
    "plt.tight_layout()"
   ]
  },
  {
   "cell_type": "code",
   "execution_count": null,
   "metadata": {},
   "outputs": [],
   "source": []
  }
 ],
 "metadata": {
  "kernelspec": {
   "display_name": "Python [conda env:line-reader] *",
   "language": "python",
   "name": "conda-env-line-reader-py"
  },
  "language_info": {
   "codemirror_mode": {
    "name": "ipython",
    "version": 3
   },
   "file_extension": ".py",
   "mimetype": "text/x-python",
   "name": "python",
   "nbconvert_exporter": "python",
   "pygments_lexer": "ipython3",
   "version": "3.6.8"
  }
 },
 "nbformat": 4,
 "nbformat_minor": 2
}
